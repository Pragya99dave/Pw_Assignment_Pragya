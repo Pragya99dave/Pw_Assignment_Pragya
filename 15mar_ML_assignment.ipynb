{
 "cells": [
  {
   "cell_type": "code",
   "execution_count": null,
   "id": "9dea55d1-e9a9-4479-89e8-95e2ca7e7167",
   "metadata": {},
   "outputs": [],
   "source": [
    "''' Q1. E=plain the following with an example:\n",
    "     1.Artificial intelligence\n",
    "     2.Machine learning\n",
    "     3.Deep learning"
   ]
  },
  {
   "cell_type": "code",
   "execution_count": null,
   "id": "b96476fd-eec5-413a-9b4c-998a33c13f6f",
   "metadata": {},
   "outputs": [],
   "source": [
    "''' Artificial Intelligence - It is a branch of computer science that aims to create an intelligent machine that can perform task that typically require human\n",
    "                          intelligence.                         \n",
    "E.g. of Artificial Intelligence - siri, alexa, google assistant\n",
    "\n",
    "Machine Learning - It is a subset of Artificial Intelligence. In machine learning, different algorithms are required to train the computing machine and based on\n",
    "                   the training prediction can be done. Machine learning models can be supervised, unsupervised, or semi-supervised.\n",
    "E.g. of Machine Learning - Spam filtering\n",
    "\n",
    "Deep Learning - It is a subset of machine learningthat is inspired by the structure and function of the human brain. It involves training \n",
    "                artificial neural networks with large amounts of data to perform complex tasks such as image and speech recognition, natural language processing,\n",
    "                and autonomous driving.\n",
    "E.g of deep learning - self-driving cars, facial recognition systems, and voice assistants like Siri and Alexa.\n",
    "'''"
   ]
  },
  {
   "cell_type": "code",
   "execution_count": null,
   "id": "2752be04-c064-45f6-9e27-7a32ea15738d",
   "metadata": {},
   "outputs": [],
   "source": [
    "'''Q2.What is supervised learning? List some example supervised learning.'''"
   ]
  },
  {
   "cell_type": "code",
   "execution_count": null,
   "id": "6524f0d3-a3a3-4fda-a0ae-49bb57517ae9",
   "metadata": {},
   "outputs": [],
   "source": [
    "'''\n",
    "Supervised Learning - It is a type of machine learning technique that required labeled data to train the model for doing prediction. Labeled data includes input\n",
    "                      variable and label(output variable).\n",
    "                      \n",
    "Some examples :-\n",
    "\n",
    "Image recognition = Labeled data is used to train the model includes input as images of something(cats, dogs, etc) with a label(name of the creature in image).\n",
    "\n",
    "Sentiment analysis: Given a data set of customer reviews, the goal is to train a model to predict whether a new review is positive or negative. \n",
    "                    The labeled data set used for training includes review text (input variables) and their corresponding labels.'''"
   ]
  },
  {
   "cell_type": "code",
   "execution_count": null,
   "id": "b5870868-143f-49bf-bd8f-f3c6901f0b6f",
   "metadata": {},
   "outputs": [],
   "source": [
    "'''Q3.What is unsupervised learning? List some example unsupervised learning,'''"
   ]
  },
  {
   "cell_type": "code",
   "execution_count": null,
   "id": "5d415b7a-e1a2-48dc-ac1b-c3f4bac55852",
   "metadata": {},
   "outputs": [],
   "source": [
    "'''\n",
    "Unsupervised learning: It is a type of machine learning where the algorithm is trained on data that has not been labeled or categorized. In unsupervised learning,\n",
    "the algorithm is tasked with finding patterns and relationships in the data without being given specific labels or outputs to predict.\n",
    "\n",
    "Example of Unsupervised learning: \n",
    "\n",
    "Clustering : Grouping the similar data points e.g. grouping the customer based on their purchasing habit.\n",
    "Dimention reduction: Reducing the features of the dataset while retaining the relevant data in the dataset\n",
    "Anomaly Detection: Identification of the datapoints that are significantly different from the dataset.\n",
    "\n",
    "'''"
   ]
  },
  {
   "cell_type": "code",
   "execution_count": null,
   "id": "52160f4c-af42-452b-86e1-77b4797791f9",
   "metadata": {},
   "outputs": [],
   "source": [
    "'''Q4.What is the differences between AI,ML,DL,and DS?'''"
   ]
  },
  {
   "cell_type": "code",
   "execution_count": null,
   "id": "0e29fb01-6f80-47df-b891-a30be547b037",
   "metadata": {},
   "outputs": [],
   "source": [
    "'''\n",
    "AI - The aim is to create intelligent machine that can perform task with any human intervention\n",
    "ML - ML is a  subset of AI, focussed on building algorithms that can learn from the data without being explicitly programmed and make decision based on the pattern followed within the data.\n",
    "DL - Subset of ML, based on artificial neural network that can perform complex tasks e.g. image detection, voice recognition, \n",
    "DS - Data Science is a field that involves the extraction of insights and knowledge from data. \n",
    "\n",
    "'''"
   ]
  },
  {
   "cell_type": "code",
   "execution_count": null,
   "id": "e2e9aff6-0070-44a8-8c74-10506a023c7c",
   "metadata": {},
   "outputs": [],
   "source": [
    "'''Q5.What are the main differences between supervised,unsupervised,and semi-supervised learning?'''"
   ]
  },
  {
   "cell_type": "code",
   "execution_count": null,
   "id": "55751923-369e-46dc-a451-3ec906141880",
   "metadata": {},
   "outputs": [],
   "source": [
    "'''\n",
    "Supervised machine learning : Algorithm is trained using labeled dataset which means output variable/label is already known.\n",
    "Unsupervised machine learning : Algorithm is trained using non-labeled dataset which means output variable/label isn't known.\n",
    "Semi-Supervised machine learning : Algorithm is trained using both labeled dataset and non-labeled data. Labeled data used to guide the learning process \n",
    "                                    while non-labeled data augment the train dataset and improve the performance of the algorithm.\n",
    "'''"
   ]
  },
  {
   "cell_type": "code",
   "execution_count": null,
   "id": "6fd2cb84-e473-412a-ac8f-4d5976941e43",
   "metadata": {},
   "outputs": [],
   "source": [
    "'''Q6.What is train,test and validation split? Explain the importance of each term.'''"
   ]
  },
  {
   "cell_type": "code",
   "execution_count": null,
   "id": "090c1bc4-1b27-4178-81f7-21522236298f",
   "metadata": {},
   "outputs": [],
   "source": [
    "'''\n",
    "Train,test,validation split is a split of large dataset in the machine learniing algorithm.\n",
    "\n",
    "Train data: It is used to train the machine learning model\n",
    "Test data: It is used to test the performance of the machine learning model.\n",
    "Validation data: It is used to tuned the hyperparameters to improve the performance of the model.\n",
    "'''"
   ]
  },
  {
   "cell_type": "code",
   "execution_count": null,
   "id": "b43d7544-edf0-4745-9bf2-c67ddbad69d4",
   "metadata": {},
   "outputs": [],
   "source": [
    "'''Q7.How can unsupervised learning be used in anomaly detection?'''"
   ]
  },
  {
   "cell_type": "code",
   "execution_count": null,
   "id": "316d2ba6-e795-4bcc-9e3f-30de1cad845c",
   "metadata": {},
   "outputs": [],
   "source": [
    "'''\n",
    "Clustering is done that group the data points together based on their similarity. Anomalies can be identified as data points\n",
    "that do not belong to any cluster or belong to a cluster with very few data points.\n",
    "'''"
   ]
  },
  {
   "cell_type": "code",
   "execution_count": null,
   "id": "183fed58-ee67-498f-b0ef-166f3e62d97d",
   "metadata": {},
   "outputs": [],
   "source": [
    "'''Q8.List down some commonly used supervised learning algorithms and unsupervised learning algorithms.'''"
   ]
  },
  {
   "cell_type": "code",
   "execution_count": null,
   "id": "8656782a-86f8-4eaa-9be4-43341e7254f7",
   "metadata": {},
   "outputs": [],
   "source": [
    "'''\n",
    "Supervised Learning Algorithms:\n",
    "\n",
    "Linear Regression\n",
    "Logistic Regression\n",
    "Decision Trees\n",
    "Random Forest\n",
    "Naive Bayes\n",
    "Support Vector Machines (SVM)\n",
    "K-Nearest Neighbor (KNN)\n",
    "Neural Networks\n",
    "\n",
    "\n",
    "Unsupervised Learning Algorithms:\n",
    "\n",
    "K-Means Clustering\n",
    "Hierarchical Clustering\n",
    "Principal Component Analysis (PCA)\n",
    "Independent Component Analysis (ICA)\n",
    "Association Rule Learning\n",
    "Self-Organizing Maps (SOM)\n",
    "Gaussian Mixture Models (GMM)\n",
    "t-SNE (t-Distributed Stochastic Neighbor Embedding)\n",
    "'''"
   ]
  }
 ],
 "metadata": {
  "kernelspec": {
   "display_name": "Python 3 (ipykernel)",
   "language": "python",
   "name": "python3"
  },
  "language_info": {
   "codemirror_mode": {
    "name": "ipython",
    "version": 3
   },
   "file_extension": ".py",
   "mimetype": "text/x-python",
   "name": "python",
   "nbconvert_exporter": "python",
   "pygments_lexer": "ipython3",
   "version": "3.10.8"
  }
 },
 "nbformat": 4,
 "nbformat_minor": 5
}

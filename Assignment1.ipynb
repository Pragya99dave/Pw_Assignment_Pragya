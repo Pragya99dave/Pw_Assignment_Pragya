{
 "cells": [
  {
   "cell_type": "code",
   "execution_count": 2,
   "id": "3293ece1-4b61-409f-9c97-fe46c0337eec",
   "metadata": {},
   "outputs": [
    {
     "data": {
      "text/plain": [
       "'\\nQ1.Create one variable containing following type of data.\\n (i) string (ii)list (iii)float (iv)tuple\\n '"
      ]
     },
     "execution_count": 2,
     "metadata": {},
     "output_type": "execute_result"
    }
   ],
   "source": [
    "'''\n",
    "Q1.Create one variable containing following type of data.\n",
    " (i) string (ii)list (iii)float (iv)tuple\n",
    " '''"
   ]
  },
  {
   "cell_type": "code",
   "execution_count": 3,
   "id": "4c8eed89-46e5-4f9e-b3b0-dc342840cf93",
   "metadata": {},
   "outputs": [
    {
     "name": "stdout",
     "output_type": "stream",
     "text": [
      "pragya\n"
     ]
    }
   ],
   "source": [
    "a = \"pragya\"\n",
    "print (a)"
   ]
  },
  {
   "cell_type": "code",
   "execution_count": 4,
   "id": "eb9cf198-d3cb-4701-aec9-d8e36abc447f",
   "metadata": {},
   "outputs": [
    {
     "name": "stdout",
     "output_type": "stream",
     "text": [
      "[2, 25, 'abc']\n"
     ]
    }
   ],
   "source": [
    "l =[2,25,\"abc\"]\n",
    "print (l)"
   ]
  },
  {
   "cell_type": "code",
   "execution_count": 5,
   "id": "a4269e06-ece8-4265-a543-93cce2785b50",
   "metadata": {},
   "outputs": [
    {
     "name": "stdout",
     "output_type": "stream",
     "text": [
      "2.5\n"
     ]
    }
   ],
   "source": [
    "p =2.5 \n",
    "print(p)"
   ]
  },
  {
   "cell_type": "code",
   "execution_count": 6,
   "id": "66f955c1-e161-4353-ba64-0e2c477945d3",
   "metadata": {},
   "outputs": [
    {
     "name": "stdout",
     "output_type": "stream",
     "text": [
      "(55, 44, 9, 6, 'xyz')\n"
     ]
    }
   ],
   "source": [
    "T =(55,44,9,6,\"xyz\")\n",
    "print(T)"
   ]
  },
  {
   "cell_type": "code",
   "execution_count": null,
   "id": "cf5c3ce9-8d1c-4f00-81a4-0f3c3d2e501d",
   "metadata": {},
   "outputs": [],
   "source": []
  },
  {
   "cell_type": "code",
   "execution_count": 7,
   "id": "e3eb4775-2822-4f95-a858-68eda2574a9f",
   "metadata": {},
   "outputs": [
    {
     "data": {
      "text/plain": [
       "\"\\nQ2.Given are some following variables containing data:\\n(i)var1=' '\\n(ii)var2='['DS','ML','Python']'\\n(iii)var3=['DS','ML','Python']\\n(iv)var4=1.\\n\\n\""
      ]
     },
     "execution_count": 7,
     "metadata": {},
     "output_type": "execute_result"
    }
   ],
   "source": [
    "'''\n",
    "Q2.Given are some following variables containing data:\n",
    "(i)var1=' '\n",
    "(ii)var2='['DS','ML','Python']'\n",
    "(iii)var3=['DS','ML','Python']\n",
    "(iv)var4=1.\n",
    "\n",
    "'''"
   ]
  },
  {
   "cell_type": "code",
   "execution_count": 8,
   "id": "3606cf77-a8fa-4df9-a45c-c48b9ff84ae9",
   "metadata": {},
   "outputs": [],
   "source": [
    "var1=' '"
   ]
  },
  {
   "cell_type": "code",
   "execution_count": 9,
   "id": "7a3422d7-644c-4197-ae6f-1954b25fa4ee",
   "metadata": {},
   "outputs": [
    {
     "data": {
      "text/plain": [
       "str"
      ]
     },
     "execution_count": 9,
     "metadata": {},
     "output_type": "execute_result"
    }
   ],
   "source": [
    "type(var1)"
   ]
  },
  {
   "cell_type": "code",
   "execution_count": 10,
   "id": "2e56251c-d3c0-4266-846a-9a72dddc453b",
   "metadata": {},
   "outputs": [],
   "source": [
    "var2 = '[\"DS\",\"ML\",\"Python\"]'"
   ]
  },
  {
   "cell_type": "code",
   "execution_count": 11,
   "id": "9fd8ac66-fec3-469d-9047-697304ec52df",
   "metadata": {},
   "outputs": [
    {
     "data": {
      "text/plain": [
       "str"
      ]
     },
     "execution_count": 11,
     "metadata": {},
     "output_type": "execute_result"
    }
   ],
   "source": [
    "type(var2)"
   ]
  },
  {
   "cell_type": "code",
   "execution_count": 12,
   "id": "dcd53002-f49b-489a-9b9d-01e9e1792c53",
   "metadata": {},
   "outputs": [],
   "source": [
    "var3 = ['DS','ML','Python']"
   ]
  },
  {
   "cell_type": "code",
   "execution_count": 13,
   "id": "bc991c03-dc8c-4fed-b53c-631169d8a358",
   "metadata": {},
   "outputs": [
    {
     "data": {
      "text/plain": [
       "list"
      ]
     },
     "execution_count": 13,
     "metadata": {},
     "output_type": "execute_result"
    }
   ],
   "source": [
    "type(var3)"
   ]
  },
  {
   "cell_type": "code",
   "execution_count": 14,
   "id": "0c91e06c-2458-4344-bab8-b92997ca9c31",
   "metadata": {},
   "outputs": [],
   "source": [
    "var4 = 1."
   ]
  },
  {
   "cell_type": "code",
   "execution_count": 15,
   "id": "79e5bff8-b089-401f-acae-832f969a1497",
   "metadata": {},
   "outputs": [
    {
     "data": {
      "text/plain": [
       "float"
      ]
     },
     "execution_count": 15,
     "metadata": {},
     "output_type": "execute_result"
    }
   ],
   "source": [
    "type(var4)"
   ]
  },
  {
   "cell_type": "code",
   "execution_count": null,
   "id": "7416a437-1108-456a-88e0-de83be7a62bd",
   "metadata": {},
   "outputs": [],
   "source": []
  },
  {
   "cell_type": "code",
   "execution_count": 16,
   "id": "4e59a8f2-d884-4b1e-b9f8-3948f69503ed",
   "metadata": {},
   "outputs": [
    {
     "data": {
      "text/plain": [
       "'\\nQ3.#Q2.Explain the use of the following operators using an example:\\n(i)/\\n(ii)%\\n(iii)//\\n(iv)** \\n'"
      ]
     },
     "execution_count": 16,
     "metadata": {},
     "output_type": "execute_result"
    }
   ],
   "source": [
    "'''\n",
    "Q3.#Q2.Explain the use of the following operators using an example:\n",
    "(i)/\n",
    "(ii)%\n",
    "(iii)//\n",
    "(iv)** \n",
    "'''"
   ]
  },
  {
   "cell_type": "code",
   "execution_count": 17,
   "id": "bbd05312-1823-484c-9164-ad977a868cd3",
   "metadata": {},
   "outputs": [
    {
     "name": "stdout",
     "output_type": "stream",
     "text": [
      "2.5\n"
     ]
    }
   ],
   "source": [
    "a = 5\n",
    "b = 2\n",
    "c = a/b\n",
    "print(c)"
   ]
  },
  {
   "cell_type": "code",
   "execution_count": 18,
   "id": "3b8eba4b-8b8e-41c2-a320-effaae7aa11f",
   "metadata": {},
   "outputs": [
    {
     "name": "stdout",
     "output_type": "stream",
     "text": [
      "0\n"
     ]
    }
   ],
   "source": [
    "x = 8\n",
    "y = 4\n",
    "z = x%y\n",
    "print(z)"
   ]
  },
  {
   "cell_type": "code",
   "execution_count": 19,
   "id": "0277200a-cd25-4542-b73e-0441bbabfd62",
   "metadata": {},
   "outputs": [
    {
     "name": "stdout",
     "output_type": "stream",
     "text": [
      "2\n"
     ]
    }
   ],
   "source": [
    "a = 5\n",
    "b = 2\n",
    "c = a//b\n",
    "print(c)\n"
   ]
  },
  {
   "cell_type": "code",
   "execution_count": 20,
   "id": "a74bb075-ee20-4066-a05b-fad5a6b8a5d9",
   "metadata": {},
   "outputs": [
    {
     "name": "stdout",
     "output_type": "stream",
     "text": [
      "10000\n"
     ]
    }
   ],
   "source": [
    "a = 10\n",
    "b = 4\n",
    "c = a**b\n",
    "print(c)"
   ]
  },
  {
   "cell_type": "code",
   "execution_count": null,
   "id": "0198e222-7575-4d23-a7b1-ef24d29cd4f4",
   "metadata": {},
   "outputs": [],
   "source": []
  },
  {
   "cell_type": "code",
   "execution_count": 21,
   "id": "435a5908-ff22-430c-9ec9-36286adf423a",
   "metadata": {},
   "outputs": [
    {
     "data": {
      "text/plain": [
       "'\\nQ4.Create a list of length 10 of your choice containing multiple types of data. Using for loop print the\\nelement and its data type.\\n'"
      ]
     },
     "execution_count": 21,
     "metadata": {},
     "output_type": "execute_result"
    }
   ],
   "source": [
    "'''\n",
    "Q4.Create a list of length 10 of your choice containing multiple types of data. Using for loop print the\n",
    "element and its data type.\n",
    "'''"
   ]
  },
  {
   "cell_type": "code",
   "execution_count": 22,
   "id": "31b2ae86-21e8-4cd9-9e5f-7a52144c013d",
   "metadata": {},
   "outputs": [
    {
     "name": "stdout",
     "output_type": "stream",
     "text": [
      "1 one\n",
      "2 two\n",
      "3 three\n"
     ]
    }
   ],
   "source": [
    "a = [1 , 2, 3]\n",
    "b = [\"one\" , \"two\", \"three\"]\n",
    "\n",
    "for i in range(len(a)):\n",
    " print(a[i], b[i])\n",
    "    "
   ]
  },
  {
   "cell_type": "code",
   "execution_count": null,
   "id": "fe03c706-1690-41ee-8b9e-ed7e98da8bbf",
   "metadata": {},
   "outputs": [],
   "source": []
  },
  {
   "cell_type": "code",
   "execution_count": null,
   "id": "5d249acf-7154-447b-9521-9417257b153e",
   "metadata": {},
   "outputs": [],
   "source": [
    "'''\n",
    "Q5.Using a while loop, verify if the number A is purely divisible by number B and if so then how many\n",
    "times it can be divisible.\n",
    "'''"
   ]
  },
  {
   "cell_type": "code",
   "execution_count": 2,
   "id": "79af51b9-a9a3-48f8-82c0-bface7c03275",
   "metadata": {},
   "outputs": [
    {
     "name": "stdin",
     "output_type": "stream",
     "text": [
      "Enter the dividend (A):  10\n",
      "Enter the divisor (B):  2\n"
     ]
    },
    {
     "name": "stdout",
     "output_type": "stream",
     "text": [
      "5.0 is divisible by 2 1 times.\n"
     ]
    }
   ],
   "source": [
    "A = int(input(\"Enter the dividend (A): \"))\n",
    "B = int(input(\"Enter the divisor (B): \"))\n",
    "\n",
    "count = 0\n",
    "\n",
    "while A % B == 0:\n",
    "    \n",
    "    count += 1\n",
    "    A /= B\n",
    "\n",
    "if count > 0:\n",
    "    print(f\"{A} is divisible by {B} {count} times.\")\n",
    "else:\n",
    "    print(f\"{A} is not divisible by {B}.\")\n",
    "\n"
   ]
  },
  {
   "cell_type": "code",
   "execution_count": null,
   "id": "2996cb5f-023d-40c4-8af1-cd7aab11ae4f",
   "metadata": {},
   "outputs": [],
   "source": []
  },
  {
   "cell_type": "code",
   "execution_count": null,
   "id": "73f3d898-8271-4f7f-8cfc-864f278efa3f",
   "metadata": {},
   "outputs": [],
   "source": [
    "'''\n",
    "Q6.Create a list containing 25 int type data. Using for loop and if-else condition print if the element is\n",
    "divisible by 3 or not.\n",
    "'''"
   ]
  },
  {
   "cell_type": "code",
   "execution_count": null,
   "id": "5f28dcbf-cdbb-4563-863e-066c6a33898c",
   "metadata": {},
   "outputs": [],
   "source": [
    "\n",
    "numbers = [i for i in range(1, 26)]\n",
    "\n",
    "for num in numbers:\n",
    "    \n",
    "    if num % 3 == 0:\n",
    "        print(f\"{num} is divisible by 3\")\n",
    "    else:\n",
    "        print(f\"{num} is not divisible by 3\")"
   ]
  },
  {
   "cell_type": "code",
   "execution_count": null,
   "id": "2df512a8-7895-4826-823b-81ec0bd44fc4",
   "metadata": {},
   "outputs": [],
   "source": [
    "'''\n",
    "Q7.What do you understand about mutable and immutable data types? Give examples for both showing\n",
    "this property.\n",
    "'''"
   ]
  },
  {
   "cell_type": "code",
   "execution_count": null,
   "id": "c5870d04-7002-4bff-b5c1-f0a69fe9ef55",
   "metadata": {},
   "outputs": [],
   "source": [
    "'''\n",
    "Mutable:-Mutable objects are those that allow you to change their value or data in place without affecting the object’s identity. \n",
    "         Example:-\n",
    "        l = [2,3,5,55,\"fsd\",3+5j,True,56+98]\n",
    "         hence we can change the value because list is mutable object.\n",
    "Immutable:-Immutable objects don’t allow this kind of operation. You’ll just have the option of creating new objects of the same type with different values.\n",
    "        Example:-\n",
    "        s = \"pragya\"\n",
    "        s[5]\n",
    "        a\n",
    "        s[5] = \"d\"\n",
    "    hence it will not change their value because string is immutable object.\n",
    "'''"
   ]
  },
  {
   "cell_type": "code",
   "execution_count": null,
   "id": "544cd0c0-5630-4ea7-8494-463d5e7fa592",
   "metadata": {},
   "outputs": [],
   "source": [
    "'''Example of mutable'''"
   ]
  },
  {
   "cell_type": "code",
   "execution_count": 4,
   "id": "2e4d6cd2-8817-47b2-9f01-9c4fba77ad32",
   "metadata": {},
   "outputs": [],
   "source": [
    "l = [2,3,5,55,\"fsd\",3+5j,True,56+98]"
   ]
  },
  {
   "cell_type": "code",
   "execution_count": 6,
   "id": "3f48443d-2c56-4c3b-a502-3dfe19446379",
   "metadata": {},
   "outputs": [
    {
     "data": {
      "text/plain": [
       "list"
      ]
     },
     "execution_count": 6,
     "metadata": {},
     "output_type": "execute_result"
    }
   ],
   "source": [
    "type(l)"
   ]
  },
  {
   "cell_type": "code",
   "execution_count": 7,
   "id": "6051646b-956b-4b88-bba7-302e18a268b2",
   "metadata": {},
   "outputs": [
    {
     "data": {
      "text/plain": [
       "True"
      ]
     },
     "execution_count": 7,
     "metadata": {},
     "output_type": "execute_result"
    }
   ],
   "source": [
    "l[-2]"
   ]
  },
  {
   "cell_type": "code",
   "execution_count": 8,
   "id": "e7e44f07-62df-4dac-9f69-3abd330066f2",
   "metadata": {},
   "outputs": [
    {
     "data": {
      "text/plain": [
       "55"
      ]
     },
     "execution_count": 8,
     "metadata": {},
     "output_type": "execute_result"
    }
   ],
   "source": [
    "l[3]"
   ]
  },
  {
   "cell_type": "code",
   "execution_count": 9,
   "id": "a6cae4a9-41be-4d06-9e63-605d90f92f0c",
   "metadata": {},
   "outputs": [],
   "source": [
    "l[3] = 800"
   ]
  },
  {
   "cell_type": "code",
   "execution_count": 10,
   "id": "d1d7d326-800f-45b0-929d-48a73de59e44",
   "metadata": {},
   "outputs": [
    {
     "data": {
      "text/plain": [
       "[2, 3, 5, 800, 'fsd', (3+5j), True, 154]"
      ]
     },
     "execution_count": 10,
     "metadata": {},
     "output_type": "execute_result"
    }
   ],
   "source": [
    "l"
   ]
  },
  {
   "cell_type": "code",
   "execution_count": null,
   "id": "f8250dc4-5092-4b56-b247-52d64cadcf26",
   "metadata": {},
   "outputs": [],
   "source": []
  },
  {
   "cell_type": "code",
   "execution_count": null,
   "id": "fda97bad-8316-46a9-8e83-52cdc7a3a484",
   "metadata": {},
   "outputs": [],
   "source": [
    "'''example of immutable'''"
   ]
  },
  {
   "cell_type": "code",
   "execution_count": 1,
   "id": "4712d725-7dd8-4649-9981-5928abaef2b8",
   "metadata": {},
   "outputs": [],
   "source": [
    "s = \"pragya\""
   ]
  },
  {
   "cell_type": "code",
   "execution_count": 2,
   "id": "1de60521-6392-4e91-b9b6-b40351df0edc",
   "metadata": {},
   "outputs": [
    {
     "data": {
      "text/plain": [
       "'a'"
      ]
     },
     "execution_count": 2,
     "metadata": {},
     "output_type": "execute_result"
    }
   ],
   "source": [
    "s[5]"
   ]
  },
  {
   "cell_type": "code",
   "execution_count": 3,
   "id": "b63b3ad7-0e44-4886-b1dd-cec03f883e56",
   "metadata": {},
   "outputs": [
    {
     "ename": "TypeError",
     "evalue": "'str' object does not support item assignment",
     "output_type": "error",
     "traceback": [
      "\u001b[0;31m---------------------------------------------------------------------------\u001b[0m",
      "\u001b[0;31mTypeError\u001b[0m                                 Traceback (most recent call last)",
      "Cell \u001b[0;32mIn[3], line 1\u001b[0m\n\u001b[0;32m----> 1\u001b[0m \u001b[43ms\u001b[49m\u001b[43m[\u001b[49m\u001b[38;5;241;43m5\u001b[39;49m\u001b[43m]\u001b[49m \u001b[38;5;241m=\u001b[39m \u001b[38;5;124m\"\u001b[39m\u001b[38;5;124md\u001b[39m\u001b[38;5;124m\"\u001b[39m\n",
      "\u001b[0;31mTypeError\u001b[0m: 'str' object does not support item assignment"
     ]
    }
   ],
   "source": [
    "s[5] = \"d\""
   ]
  },
  {
   "cell_type": "code",
   "execution_count": null,
   "id": "cc36af41-71ad-49ff-92a3-2716d6e5defd",
   "metadata": {},
   "outputs": [],
   "source": []
  }
 ],
 "metadata": {
  "kernelspec": {
   "display_name": "Python 3 (ipykernel)",
   "language": "python",
   "name": "python3"
  },
  "language_info": {
   "codemirror_mode": {
    "name": "ipython",
    "version": 3
   },
   "file_extension": ".py",
   "mimetype": "text/x-python",
   "name": "python",
   "nbconvert_exporter": "python",
   "pygments_lexer": "ipython3",
   "version": "3.10.8"
  }
 },
 "nbformat": 4,
 "nbformat_minor": 5
}
